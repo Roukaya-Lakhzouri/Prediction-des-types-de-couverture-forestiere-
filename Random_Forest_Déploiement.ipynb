{
 "cells": [
  {
   "cell_type": "markdown",
   "id": "4db9b747-5a20-4672-8928-53213adbcfe7",
   "metadata": {},
   "source": [
    "#### **Introduction**\n",
    "\n",
    "This notebook documents a project focused on predicting forest cover types using the [Kaggle dataset: Forest Cover Type Prediction Dataset](https://www.kaggle.com/competitions/forest-cover-type-prediction/data)\n",
    ". The project is part of the **Big Data** module of ENIT's 3rd year MIndS and is undertaken by **Group 4**: Chaima Balti, Roukaya Lakhzouri, and Salsabil Rouahi. We are working under the supervision of our professor, **Moez Ben Haj Hmida**.\n"
   ]
  },
  {
   "cell_type": "markdown",
   "id": "b3774c98-6fa0-4f0f-8f33-2f61724d596d",
   "metadata": {},
   "source": [
    "#### Load the Scikit-learn model\n"
   ]
  },
  {
   "cell_type": "code",
   "execution_count": 1,
   "id": "f70edbd6-e955-449c-b18b-5556bc49daa7",
   "metadata": {},
   "outputs": [],
   "source": [
    "import gradio as gr\n",
    "import numpy as np\n",
    "import joblib\n",
    "import os\n"
   ]
  },
  {
   "cell_type": "code",
   "execution_count": 2,
   "id": "8822c353-e166-4605-9f7c-5c957e736edd",
   "metadata": {},
   "outputs": [],
   "source": [
    "\n",
    "folder_path = 'models_folder'\n",
    "model_filename = os.path.join(folder_path, 'Random_Forest.joblib')\n",
    "model = joblib.load(model_filename)\n"
   ]
  },
  {
   "cell_type": "markdown",
   "id": "009c8783-002c-48f9-9d44-e8017fd749c6",
   "metadata": {},
   "source": [
    "#### Define The Prediction Function\n"
   ]
  },
  {
   "cell_type": "markdown",
   "id": "8caad25d-3c23-4a0c-9d14-3e966a64af60",
   "metadata": {},
   "source": [
    "This function predicts the type of forest cover for a given set of environmental and geographic features using a Random Forest model that was trained previously. The output is an image path corresponding to the predicted forest cover type, allowing for easy visualization of the prediction"
   ]
  },
  {
   "cell_type": "code",
   "execution_count": 3,
   "id": "c32be1b7-6eb4-4188-9169-a5d69d2455a9",
   "metadata": {},
   "outputs": [],
   "source": [
    "\n",
    "# Define the classes\n",
    "# Map each class to its corresponding image path\n",
    "CLASSES = {\n",
    "    'Spruce/Fir': \"images/Spruce.jpg\",\n",
    "    'Lodgepole Pine': \"images/Lodgepole Pine.jpg\",\n",
    "    'Ponderosa Pine': \"images/Ponderosa Pine.jpg\",\n",
    "    'Cottonwood/Willow': \"images/Cottonwood.jpg\",\n",
    "    'Aspen': \"images/Aspen.jpg\",\n",
    "    'Douglas-fir': \"images/Douglas-fir.jpg\",\n",
    "    'Krummholz': \"images/krummholz.jpg\"\n",
    "}\n",
    "\n",
    "def predict_forest_cover(Elevation, Aspect, Slope, Horizontal_Distance_To_Hydrology,\n",
    "                         Vertical_Distance_To_Hydrology, Horizontal_Distance_To_Roadways,\n",
    "                         Hillshade_9am, Hillshade_Noon, Hillshade_3pm,\n",
    "                         Horizontal_Distance_To_Fire_Points, Wilderness_Area1, Wilderness_Area2,\n",
    "                         Wilderness_Area3, Wilderness_Area4, *Soil_Types):\n",
    "    # Assemble features into a list\n",
    "    features = [\n",
    "        Elevation, Aspect, Slope, Horizontal_Distance_To_Hydrology,\n",
    "        Vertical_Distance_To_Hydrology, Horizontal_Distance_To_Roadways,\n",
    "        Hillshade_9am, Hillshade_Noon, Hillshade_3pm,\n",
    "        Horizontal_Distance_To_Fire_Points, Wilderness_Area1, Wilderness_Area2,\n",
    "        Wilderness_Area3, Wilderness_Area4, *Soil_Types\n",
    "    ]\n",
    "    \n",
    "    # Convert to numpy array and reshape for sklearn\n",
    "    features = np.array(features).reshape(1, -1)\n",
    "\n",
    "    # Predict using the trained model\n",
    "    prediction = model.predict(features)\n",
    "    \n",
    "    # Map the numeric prediction to the class label\n",
    "    class_label = list(CLASSES.keys())[int(prediction[0]) - 1]\n",
    "\n",
    "    return CLASSES[class_label]\n",
    "\n"
   ]
  },
  {
   "cell_type": "markdown",
   "id": "c1eff303-9f00-432c-8ecc-eb71f0059f23",
   "metadata": {},
   "source": [
    "##### Define Gradio interface"
   ]
  },
  {
   "cell_type": "code",
   "execution_count": 4,
   "id": "2d9bcebf-a218-422b-a04b-004cafe0fee3",
   "metadata": {},
   "outputs": [],
   "source": [
    "import random "
   ]
  },
  {
   "cell_type": "markdown",
   "id": "4d4b23a0-cda9-403a-ad02-92c8b8c58f52",
   "metadata": {},
   "source": [
    "This section defines a Gradio-based web interface to interact with the trained Random Forest model for forest cover type prediction. Users can manually input features or generate random features, and the app displays the corresponding forest cover type as an image.\n",
    "\n",
    "### Key Components:\n",
    "#### Random Feature Generator:\n",
    "\n",
    "The generate_random_features function creates a set of random input features for testing purposes. It generates values for:\n",
    "Environmental and geographic data such as Elevation, Aspect, Slope, etc.\n",
    "Binary values for wilderness areas and soil types."
   ]
  },
  {
   "cell_type": "code",
   "execution_count": 5,
   "id": "5cc06144-0dbf-48fd-9160-a056a2832dd0",
   "metadata": {},
   "outputs": [],
   "source": [
    "# Function to generate random features\n",
    "def generate_random_features():\n",
    "    random_features = [\n",
    "        random.randint(0, 10000),  # Id\n",
    "        random.randint(0, 4000),  # Elevation\n",
    "        random.randint(0, 360),  # Aspect\n",
    "        random.randint(0, 90),   # Slope\n",
    "        random.randint(0, 5000), # Horizontal Distance to Hydrology\n",
    "        random.randint(-500, 500),  # Vertical Distance to Hydrology\n",
    "        random.randint(0, 10000),  # Horizontal Distance to Roadways\n",
    "        random.randint(0, 255),  # Hillshade 9am\n",
    "        random.randint(0, 255),  # Hillshade Noon\n",
    "        random.randint(0, 255),  # Hillshade 3pm\n",
    "        random.randint(0, 10000),  # Horizontal Distance to Fire Points\n",
    "        random.choice([0, 1]),   # Wilderness Area 1\n",
    "        random.choice([0, 1]),   # Wilderness Area 2\n",
    "        random.choice([0, 1]),   # Wilderness Area 3\n",
    "        random.choice([0, 1])    # Wilderness Area 4\n",
    "    ] + [random.choice([0, 1]) for _ in range(40)]  # Soil Types\n",
    "    return random_features"
   ]
  },
  {
   "cell_type": "markdown",
   "id": "7b926aad-b1ad-46d0-b97e-8d2e5d53493f",
   "metadata": {},
   "source": [
    "#### Gradio Interface:\n",
    "\n",
    "The app is built using Gradio's Blocks layout, which provides an intuitive interface for inputting data and visualizing predictions.\n",
    "Interface Design:\n",
    "\n",
    "##### Input Fields:\n",
    "Numeric inputs for environmental features (e.g., Elevation, Aspect, Slope).\n",
    "\n",
    "\n",
    "Checkboxes for wilderness areas and soil types.\n",
    "##### Buttons:\n",
    "A \"Predict\" button to submit inputs for forest cover prediction.\n",
    "\n",
    "A \"Generate Random Features\" button to auto-fill inputs with randomly generated values.\n",
    "##### Output:\n",
    "An image display to show the predicted forest cover type."
   ]
  },
  {
   "cell_type": "code",
   "execution_count": 6,
   "id": "7553f34e-df52-40f3-9b95-4b8cebf48132",
   "metadata": {},
   "outputs": [
    {
     "name": "stdout",
     "output_type": "stream",
     "text": [
      "* Running on local URL:  http://127.0.0.1:7860\n",
      "\n",
      "To create a public link, set `share=True` in `launch()`.\n"
     ]
    },
    {
     "data": {
      "text/html": [
       "<div><iframe src=\"http://127.0.0.1:7860/\" width=\"100%\" height=\"500\" allow=\"autoplay; camera; microphone; clipboard-read; clipboard-write;\" frameborder=\"0\" allowfullscreen></iframe></div>"
      ],
      "text/plain": [
       "<IPython.core.display.HTML object>"
      ]
     },
     "metadata": {},
     "output_type": "display_data"
    },
    {
     "data": {
      "text/plain": []
     },
     "execution_count": 6,
     "metadata": {},
     "output_type": "execute_result"
    }
   ],
   "source": [
    "\n",
    "\n",
    "# Define the Gradio interface\n",
    "with gr.Blocks() as app:\n",
    "    with gr.Row():\n",
    "        gr.Markdown(\"### Forest Cover Prediction\")\n",
    "    \n",
    "    # Inputs for numeric fields\n",
    "    input_fields = []\n",
    "    with gr.Row():\n",
    "        input_fields.append(gr.Number(label=\"Id\", interactive=True, precision=0))\n",
    "        input_fields.append(gr.Number(label=\"Elevation\", interactive=True))\n",
    "        input_fields.append(gr.Number(label=\"Aspect\", interactive=True))\n",
    "    with gr.Row():\n",
    "        input_fields.append(gr.Number(label=\"Slope\", interactive=True))\n",
    "        input_fields.append(gr.Number(label=\"Horizontal Distance to Hydrology\", interactive=True))\n",
    "        input_fields.append(gr.Number(label=\"Vertical Distance to Hydrology\", interactive=True))\n",
    "    with gr.Row():\n",
    "        input_fields.append(gr.Number(label=\"Horizontal Distance to Roadways\", interactive=True))\n",
    "        input_fields.append(gr.Number(label=\"Hillshade 9am\", interactive=True))\n",
    "        input_fields.append(gr.Number(label=\"Hillshade Noon\", interactive=True))\n",
    "    with gr.Row():\n",
    "        input_fields.append(gr.Number(label=\"Hillshade 3pm\", interactive=True))\n",
    "        input_fields.append(gr.Number(label=\"Horizontal Distance to Fire Points\", interactive=True))\n",
    "\n",
    "    # Wilderness areas\n",
    "    wilderness_areas = []\n",
    "    with gr.Row():\n",
    "        wilderness_areas.append(gr.Checkbox(label=\"Wilderness Area 1\"))\n",
    "        wilderness_areas.append(gr.Checkbox(label=\"Wilderness Area 2\"))\n",
    "        wilderness_areas.append(gr.Checkbox(label=\"Wilderness Area 3\"))\n",
    "        wilderness_areas.append(gr.Checkbox(label=\"Wilderness Area 4\"))\n",
    "\n",
    "    # Soil types\n",
    "    soil_types = []\n",
    "    for i in range(0, 40, 4):\n",
    "        with gr.Row():\n",
    "            for j in range(4):\n",
    "                soil_types.append(gr.Checkbox(label=f\"Soil Type {i + j + 1}\"))\n",
    "\n",
    "    # Buttons and outputs\n",
    "    with gr.Row():\n",
    "        predict_button = gr.Button(\"Predict\")\n",
    "        generate_button = gr.Button(\"Generate Random Features\")\n",
    "    \n",
    "    output = gr.Image(label=\"Cover Type\")\n",
    "\n",
    "    # Button to generate random values\n",
    "    def on_generate():\n",
    "        random_values = generate_random_features()\n",
    "        updates = [gr.update(value=random_values[i]) for i in range(len(random_values))]\n",
    "        return updates\n",
    "\n",
    "    generate_button.click(on_generate, inputs=None, outputs=[*input_fields, *wilderness_areas, *soil_types])\n",
    "    predict_button.click(predict_forest_cover, inputs=[*input_fields, *wilderness_areas, *soil_types], outputs=output)\n",
    "\n",
    "# Launch the app\n",
    "app.launch()"
   ]
  },
  {
   "cell_type": "code",
   "execution_count": null,
   "id": "3188270f-d914-44b5-bba0-c1f44f880c17",
   "metadata": {},
   "outputs": [],
   "source": []
  },
  {
   "cell_type": "code",
   "execution_count": null,
   "id": "96872c90-f867-4ea1-a152-d12ab64202c5",
   "metadata": {},
   "outputs": [],
   "source": []
  }
 ],
 "metadata": {
  "kernelspec": {
   "display_name": "Python 3 (ipykernel)",
   "language": "python",
   "name": "python3"
  },
  "language_info": {
   "codemirror_mode": {
    "name": "ipython",
    "version": 3
   },
   "file_extension": ".py",
   "mimetype": "text/x-python",
   "name": "python",
   "nbconvert_exporter": "python",
   "pygments_lexer": "ipython3",
   "version": "3.11.7"
  }
 },
 "nbformat": 4,
 "nbformat_minor": 5
}
